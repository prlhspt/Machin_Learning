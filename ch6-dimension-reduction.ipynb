{
 "cells": [
  {
   "cell_type": "markdown",
   "metadata": {},
   "source": [
    "# Ch.6 차원 축소 (Dimension Reduction)"
   ]
  },
  {
   "cell_type": "code",
   "execution_count": 2,
   "metadata": {},
   "outputs": [],
   "source": [
    "import numpy as np\n",
    "import pandas as pd\n",
    "import warnings\n",
    "warnings.filterwarnings('ignore')\n",
    "import matplotlib.pyplot as plt\n",
    "import seaborn as sns\n",
    "%matplotlib inline"
   ]
  },
  {
   "cell_type": "code",
   "execution_count": 4,
   "metadata": {},
   "outputs": [],
   "source": [
    "from sklearn.datasets import load_iris\n",
    "iris = load_iris()"
   ]
  },
  {
   "cell_type": "markdown",
   "metadata": {},
   "source": [
    "# 공분산 행렬"
   ]
  },
  {
   "cell_type": "code",
   "execution_count": 9,
   "metadata": {},
   "outputs": [
    {
     "data": {
      "text/plain": [
       "array([[-0.90068117,  1.01900435, -1.34022653, -1.3154443 ],\n",
       "       [-1.14301691, -0.13197948, -1.34022653, -1.3154443 ],\n",
       "       [-1.38535265,  0.32841405, -1.39706395, -1.3154443 ]])"
      ]
     },
     "execution_count": 9,
     "metadata": {},
     "output_type": "execute_result"
    }
   ],
   "source": [
    "from sklearn.preprocessing import StandardScaler\n",
    "\n",
    "iris_std = StandardScaler().fit_transform(iris.data) # 표준편차\n",
    "iris_std[:3, :]"
   ]
  },
  {
   "cell_type": "code",
   "execution_count": 18,
   "metadata": {},
   "outputs": [
    {
     "data": {
      "text/plain": [
       "array([[ 1.        , -0.11756978,  0.87175378,  0.81794113],\n",
       "       [-0.11756978,  1.        , -0.4284401 , -0.36612593],\n",
       "       [ 0.87175378, -0.4284401 ,  1.        ,  0.96286543],\n",
       "       [ 0.81794113, -0.36612593,  0.96286543,  1.        ]])"
      ]
     },
     "execution_count": 18,
     "metadata": {},
     "output_type": "execute_result"
    }
   ],
   "source": [
    "iris_cov = np.dot(iris_std.T, iris_std) / len(iris_std)\n",
    "iris_cov"
   ]
  },
  {
   "cell_type": "code",
   "execution_count": 22,
   "metadata": {},
   "outputs": [
    {
     "data": {
      "text/plain": [
       "array([[ 1.        , -0.11756978,  0.87175378,  0.81794113],\n",
       "       [-0.11756978,  1.        , -0.4284401 , -0.36612593],\n",
       "       [ 0.87175378, -0.4284401 ,  1.        ,  0.96286543],\n",
       "       [ 0.81794113, -0.36612593,  0.96286543,  1.        ]])"
      ]
     },
     "execution_count": 22,
     "metadata": {},
     "output_type": "execute_result"
    }
   ],
   "source": [
    "iris_cov1 = np.dot(iris_std.T, iris_std) / len((iris_std)-1)\n",
    "iris_cov1"
   ]
  },
  {
   "cell_type": "code",
   "execution_count": 23,
   "metadata": {},
   "outputs": [
    {
     "data": {
      "text/plain": [
       "array([[ 1.00671141, -0.11835884,  0.87760447,  0.82343066],\n",
       "       [-0.11835884,  1.00671141, -0.43131554, -0.36858315],\n",
       "       [ 0.87760447, -0.43131554,  1.00671141,  0.96932762],\n",
       "       [ 0.82343066, -0.36858315,  0.96932762,  1.00671141]])"
      ]
     },
     "execution_count": 23,
     "metadata": {},
     "output_type": "execute_result"
    }
   ],
   "source": [
    "np.cov(iris_std.T)"
   ]
  },
  {
   "cell_type": "code",
   "execution_count": 29,
   "metadata": {},
   "outputs": [],
   "source": [
    "eig_vals1, eig_vecs1 = np.linalg.eig(iris_cov1)"
   ]
  },
  {
   "cell_type": "code",
   "execution_count": 30,
   "metadata": {},
   "outputs": [
    {
     "data": {
      "text/plain": [
       "array([[ 0.52106591, -0.37741762, -0.71956635,  0.26128628],\n",
       "       [-0.26934744, -0.92329566,  0.24438178, -0.12350962],\n",
       "       [ 0.5804131 , -0.02449161,  0.14212637, -0.80144925],\n",
       "       [ 0.56485654, -0.06694199,  0.63427274,  0.52359713]])"
      ]
     },
     "execution_count": 30,
     "metadata": {},
     "output_type": "execute_result"
    }
   ],
   "source": [
    "eig_vecs1"
   ]
  },
  {
   "cell_type": "code",
   "execution_count": 34,
   "metadata": {},
   "outputs": [],
   "source": [
    "PC1 = iris_std.dot(np.reshape(eig_vecs1.T[0], (4, 1)))\n",
    "PC2 = iris_std.dot(np.reshape(eig_vecs1.T[1], (4, 1)))"
   ]
  },
  {
   "cell_type": "code",
   "execution_count": 36,
   "metadata": {},
   "outputs": [
    {
     "data": {
      "text/plain": [
       "array([[-2.26470281],\n",
       "       [-2.08096115],\n",
       "       [-2.36422905],\n",
       "       [-2.29938422],\n",
       "       [-2.38984217],\n",
       "       [-2.07563095],\n",
       "       [-2.44402884],\n",
       "       [-2.23284716],\n",
       "       [-2.33464048],\n",
       "       [-2.18432817],\n",
       "       [-2.1663101 ],\n",
       "       [-2.32613087],\n",
       "       [-2.2184509 ],\n",
       "       [-2.6331007 ],\n",
       "       [-2.1987406 ],\n",
       "       [-2.26221453],\n",
       "       [-2.2075877 ],\n",
       "       [-2.19034951],\n",
       "       [-1.898572  ],\n",
       "       [-2.34336905],\n",
       "       [-1.914323  ],\n",
       "       [-2.20701284],\n",
       "       [-2.7743447 ],\n",
       "       [-1.81866953],\n",
       "       [-2.22716331],\n",
       "       [-1.95184633],\n",
       "       [-2.05115137],\n",
       "       [-2.16857717],\n",
       "       [-2.13956345],\n",
       "       [-2.26526149],\n",
       "       [-2.14012214],\n",
       "       [-1.83159477],\n",
       "       [-2.61494794],\n",
       "       [-2.44617739],\n",
       "       [-2.10997488],\n",
       "       [-2.2078089 ],\n",
       "       [-2.04514621],\n",
       "       [-2.52733191],\n",
       "       [-2.42963258],\n",
       "       [-2.16971071],\n",
       "       [-2.28647514],\n",
       "       [-1.85812246],\n",
       "       [-2.5536384 ],\n",
       "       [-1.96444768],\n",
       "       [-2.13705901],\n",
       "       [-2.0697443 ],\n",
       "       [-2.38473317],\n",
       "       [-2.39437631],\n",
       "       [-2.22944655],\n",
       "       [-2.20383344],\n",
       "       [ 1.10178118],\n",
       "       [ 0.73133743],\n",
       "       [ 1.24097932],\n",
       "       [ 0.40748306],\n",
       "       [ 1.0754747 ],\n",
       "       [ 0.38868734],\n",
       "       [ 0.74652974],\n",
       "       [-0.48732274],\n",
       "       [ 0.92790164],\n",
       "       [ 0.01142619],\n",
       "       [-0.11019628],\n",
       "       [ 0.44069345],\n",
       "       [ 0.56210831],\n",
       "       [ 0.71956189],\n",
       "       [-0.0333547 ],\n",
       "       [ 0.87540719],\n",
       "       [ 0.35025167],\n",
       "       [ 0.15881005],\n",
       "       [ 1.22509363],\n",
       "       [ 0.1649179 ],\n",
       "       [ 0.73768265],\n",
       "       [ 0.47628719],\n",
       "       [ 1.2341781 ],\n",
       "       [ 0.6328582 ],\n",
       "       [ 0.70266118],\n",
       "       [ 0.87427365],\n",
       "       [ 1.25650912],\n",
       "       [ 1.35840512],\n",
       "       [ 0.66480037],\n",
       "       [-0.04025861],\n",
       "       [ 0.13079518],\n",
       "       [ 0.02345269],\n",
       "       [ 0.24153827],\n",
       "       [ 1.06109461],\n",
       "       [ 0.22397877],\n",
       "       [ 0.42913912],\n",
       "       [ 1.04872805],\n",
       "       [ 1.04453138],\n",
       "       [ 0.06958832],\n",
       "       [ 0.28347724],\n",
       "       [ 0.27907778],\n",
       "       [ 0.62456979],\n",
       "       [ 0.33653037],\n",
       "       [-0.36218338],\n",
       "       [ 0.28858624],\n",
       "       [ 0.09136066],\n",
       "       [ 0.22771687],\n",
       "       [ 0.57638829],\n",
       "       [-0.44766702],\n",
       "       [ 0.25673059],\n",
       "       [ 1.84456887],\n",
       "       [ 1.15788161],\n",
       "       [ 2.20526679],\n",
       "       [ 1.44015066],\n",
       "       [ 1.86781222],\n",
       "       [ 2.75187334],\n",
       "       [ 0.36701769],\n",
       "       [ 2.30243944],\n",
       "       [ 2.00668647],\n",
       "       [ 2.25977735],\n",
       "       [ 1.36417549],\n",
       "       [ 1.60267867],\n",
       "       [ 1.8839007 ],\n",
       "       [ 1.2601151 ],\n",
       "       [ 1.4676452 ],\n",
       "       [ 1.59007732],\n",
       "       [ 1.47143146],\n",
       "       [ 2.42632899],\n",
       "       [ 3.31069558],\n",
       "       [ 1.26376667],\n",
       "       [ 2.0377163 ],\n",
       "       [ 0.97798073],\n",
       "       [ 2.89765149],\n",
       "       [ 1.33323218],\n",
       "       [ 1.7007339 ],\n",
       "       [ 1.95432671],\n",
       "       [ 1.17510363],\n",
       "       [ 1.02095055],\n",
       "       [ 1.78834992],\n",
       "       [ 1.86364755],\n",
       "       [ 2.43595373],\n",
       "       [ 2.30492772],\n",
       "       [ 1.86270322],\n",
       "       [ 1.11414774],\n",
       "       [ 1.2024733 ],\n",
       "       [ 2.79877045],\n",
       "       [ 1.57625591],\n",
       "       [ 1.3462921 ],\n",
       "       [ 0.92482492],\n",
       "       [ 1.85204505],\n",
       "       [ 2.01481043],\n",
       "       [ 1.90178409],\n",
       "       [ 1.15788161],\n",
       "       [ 2.04055823],\n",
       "       [ 1.9981471 ],\n",
       "       [ 1.87050329],\n",
       "       [ 1.56458048],\n",
       "       [ 1.5211705 ],\n",
       "       [ 1.37278779],\n",
       "       [ 0.96065603]])"
      ]
     },
     "execution_count": 36,
     "metadata": {},
     "output_type": "execute_result"
    }
   ],
   "source": [
    "PC1"
   ]
  },
  {
   "cell_type": "code",
   "execution_count": 38,
   "metadata": {},
   "outputs": [
    {
     "data": {
      "text/plain": [
       "array([[-0.4800266 ],\n",
       "       [ 0.67413356],\n",
       "       [ 0.34190802],\n",
       "       [ 0.59739451],\n",
       "       [-0.64683538],\n",
       "       [-1.48917752],\n",
       "       [-0.0476442 ],\n",
       "       [-0.22314807],\n",
       "       [ 1.11532768],\n",
       "       [ 0.46901356],\n",
       "       [-1.04369065],\n",
       "       [-0.13307834],\n",
       "       [ 0.72867617],\n",
       "       [ 0.96150673],\n",
       "       [-1.86005711],\n",
       "       [-2.68628449],\n",
       "       [-1.48360936],\n",
       "       [-0.48883832],\n",
       "       [-1.40501879],\n",
       "       [-1.12784938],\n",
       "       [-0.40885571],\n",
       "       [-0.92412143],\n",
       "       [-0.45834367],\n",
       "       [-0.08555853],\n",
       "       [-0.13725446],\n",
       "       [ 0.62561859],\n",
       "       [-0.24216355],\n",
       "       [-0.52714953],\n",
       "       [-0.31321781],\n",
       "       [ 0.3377319 ],\n",
       "       [ 0.50454069],\n",
       "       [-0.42369507],\n",
       "       [-1.79357586],\n",
       "       [-2.15072788],\n",
       "       [ 0.46020184],\n",
       "       [ 0.2061074 ],\n",
       "       [-0.66155811],\n",
       "       [-0.59229277],\n",
       "       [ 0.90418004],\n",
       "       [-0.26887896],\n",
       "       [-0.44171539],\n",
       "       [ 2.33741516],\n",
       "       [ 0.47910069],\n",
       "       [-0.47232667],\n",
       "       [-1.14222926],\n",
       "       [ 0.71105273],\n",
       "       [-1.1204297 ],\n",
       "       [ 0.38624687],\n",
       "       [-0.99795976],\n",
       "       [-0.00921636],\n",
       "       [-0.86297242],\n",
       "       [-0.59461473],\n",
       "       [-0.61629765],\n",
       "       [ 1.75440399],\n",
       "       [ 0.20842105],\n",
       "       [ 0.59328364],\n",
       "       [-0.77301931],\n",
       "       [ 1.85242909],\n",
       "       [-0.03222608],\n",
       "       [ 1.03401828],\n",
       "       [ 2.65407282],\n",
       "       [ 0.06329519],\n",
       "       [ 1.76472438],\n",
       "       [ 0.18622461],\n",
       "       [ 0.43900321],\n",
       "       [-0.50906396],\n",
       "       [ 0.19631173],\n",
       "       [ 0.79209574],\n",
       "       [ 1.6222438 ],\n",
       "       [ 1.30260923],\n",
       "       [-0.39657156],\n",
       "       [ 0.41732028],\n",
       "       [ 0.93332573],\n",
       "       [ 0.41638772],\n",
       "       [ 0.06341182],\n",
       "       [-0.25079339],\n",
       "       [ 0.07725602],\n",
       "       [-0.33131168],\n",
       "       [ 0.22592785],\n",
       "       [ 1.05871855],\n",
       "       [ 1.56227183],\n",
       "       [ 1.57247559],\n",
       "       [ 0.77725638],\n",
       "       [ 0.63384324],\n",
       "       [ 0.28777351],\n",
       "       [-0.84558224],\n",
       "       [-0.5220518 ],\n",
       "       [ 1.38298872],\n",
       "       [ 0.21950333],\n",
       "       [ 1.32932464],\n",
       "       [ 1.12002852],\n",
       "       [-0.02492303],\n",
       "       [ 0.98840402],\n",
       "       [ 2.01923787],\n",
       "       [ 0.85573032],\n",
       "       [ 0.18119213],\n",
       "       [ 0.38492008],\n",
       "       [ 0.1548736 ],\n",
       "       [ 1.54379203],\n",
       "       [ 0.5988518 ],\n",
       "       [-0.87042131],\n",
       "       [ 0.69886986],\n",
       "       [-0.56201048],\n",
       "       [ 0.04698759],\n",
       "       [-0.29504482],\n",
       "       [-0.8004092 ],\n",
       "       [ 1.56150289],\n",
       "       [-0.42006558],\n",
       "       [ 0.71143865],\n",
       "       [-1.92101038],\n",
       "       [-0.69275645],\n",
       "       [ 0.42170045],\n",
       "       [-0.41924965],\n",
       "       [ 1.16226042],\n",
       "       [ 0.44227159],\n",
       "       [-0.67624481],\n",
       "       [-0.25562182],\n",
       "       [-2.55666125],\n",
       "       [-0.01778095],\n",
       "       [ 1.70674538],\n",
       "       [-0.91046741],\n",
       "       [ 0.57176432],\n",
       "       [-0.41364106],\n",
       "       [ 0.48181122],\n",
       "       [-1.01392187],\n",
       "       [-1.0077776 ],\n",
       "       [ 0.31639447],\n",
       "       [-0.06434603],\n",
       "       [ 0.18736121],\n",
       "       [-0.56229073],\n",
       "       [-0.25928443],\n",
       "       [-2.62632347],\n",
       "       [ 0.17854949],\n",
       "       [ 0.29292262],\n",
       "       [ 0.81131527],\n",
       "       [-0.85680333],\n",
       "       [-1.06858111],\n",
       "       [-0.42243061],\n",
       "       [-0.0172231 ],\n",
       "       [-0.67612817],\n",
       "       [-0.61388564],\n",
       "       [-0.68957549],\n",
       "       [ 0.69886986],\n",
       "       [-0.8675206 ],\n",
       "       [-1.04916875],\n",
       "       [-0.38696608],\n",
       "       [ 0.89668681],\n",
       "       [-0.26906914],\n",
       "       [-1.01125442],\n",
       "       [ 0.02433167]])"
      ]
     },
     "execution_count": 38,
     "metadata": {},
     "output_type": "execute_result"
    }
   ],
   "source": [
    "PC2"
   ]
  },
  {
   "cell_type": "markdown",
   "metadata": {},
   "source": [
    "## PCA 변환"
   ]
  },
  {
   "cell_type": "code",
   "execution_count": 42,
   "metadata": {},
   "outputs": [
    {
     "name": "stdout",
     "output_type": "stream",
     "text": [
      "(150, 2)\n"
     ]
    }
   ],
   "source": [
    "from sklearn.decomposition import PCA\n",
    "pca=PCA(n_components=2)\n",
    "\n",
    "pca.fit(iris_std)\n",
    "iris_pca = pca.transform(iris_std)\n",
    "print(iris_pca.shape)"
   ]
  },
  {
   "cell_type": "markdown",
   "metadata": {},
   "source": [
    "## 6.2 PCA(Principal Component Analysis)"
   ]
  },
  {
   "cell_type": "code",
   "execution_count": 46,
   "metadata": {},
   "outputs": [
    {
     "data": {
      "text/html": [
       "<div>\n",
       "<style scoped>\n",
       "    .dataframe tbody tr th:only-of-type {\n",
       "        vertical-align: middle;\n",
       "    }\n",
       "\n",
       "    .dataframe tbody tr th {\n",
       "        vertical-align: top;\n",
       "    }\n",
       "\n",
       "    .dataframe thead th {\n",
       "        text-align: right;\n",
       "    }\n",
       "</style>\n",
       "<table border=\"1\" class=\"dataframe\">\n",
       "  <thead>\n",
       "    <tr style=\"text-align: right;\">\n",
       "      <th></th>\n",
       "      <th>sepal_length</th>\n",
       "      <th>sepal_width</th>\n",
       "      <th>petal_length</th>\n",
       "      <th>petal_width</th>\n",
       "      <th>target</th>\n",
       "    </tr>\n",
       "  </thead>\n",
       "  <tbody>\n",
       "    <tr>\n",
       "      <th>0</th>\n",
       "      <td>5.1</td>\n",
       "      <td>3.5</td>\n",
       "      <td>1.4</td>\n",
       "      <td>0.2</td>\n",
       "      <td>0</td>\n",
       "    </tr>\n",
       "    <tr>\n",
       "      <th>1</th>\n",
       "      <td>4.9</td>\n",
       "      <td>3.0</td>\n",
       "      <td>1.4</td>\n",
       "      <td>0.2</td>\n",
       "      <td>0</td>\n",
       "    </tr>\n",
       "    <tr>\n",
       "      <th>2</th>\n",
       "      <td>4.7</td>\n",
       "      <td>3.2</td>\n",
       "      <td>1.3</td>\n",
       "      <td>0.2</td>\n",
       "      <td>0</td>\n",
       "    </tr>\n",
       "  </tbody>\n",
       "</table>\n",
       "</div>"
      ],
      "text/plain": [
       "   sepal_length  sepal_width  petal_length  petal_width  target\n",
       "0           5.1          3.5           1.4          0.2       0\n",
       "1           4.9          3.0           1.4          0.2       0\n",
       "2           4.7          3.2           1.3          0.2       0"
      ]
     },
     "execution_count": 46,
     "metadata": {},
     "output_type": "execute_result"
    }
   ],
   "source": [
    "from sklearn.datasets import load_iris\n",
    "import pandas as pd\n",
    "import matplotlib.pyplot as plt\n",
    "%matplotlib inline\n",
    "\n",
    "iris = load_iris()\n",
    "# transform pandas to DataFrame\n",
    "columns = ['sepal_length', 'sepal_width', 'petal_length', 'petal_width']\n",
    "irisDF = pd.DataFrame(iris.data, columns=columns)\n",
    "irisDF['target']=iris.target\n",
    "irisDF.head(3)"
   ]
  },
  {
   "cell_type": "code",
   "execution_count": 50,
   "metadata": {},
   "outputs": [
    {
     "data": {
      "image/png": "[encoded data removed]",
      "text/plain": [
       "<Figure size 432x288 with 1 Axes>"
      ]
     },
     "metadata": {
      "needs_background": "light"
     },
     "output_type": "display_data"
    }
   ],
   "source": [
    "markers = ['^', 's', 'o']\n",
    "\n",
    "# target[0] = setosa, 1 = versicolor, 2 = virginica\n",
    "for i, marker in enumerate(markers):\n",
    "    x_axis_data = irisDF[irisDF['target']==i]['sepal_length']\n",
    "    y_axis_data = irisDF[irisDF['target']==i]['sepal_width']\n",
    "    plt.scatter(x_axis_data, y_axis_data, marker=marker, label=iris.target_names[i])\n",
    "    \n",
    "plt.legend()\n",
    "plt.xlabel('sepal length')\n",
    "plt.ylabel('sepal width')\n",
    "plt.show()"
   ]
  },
  {
   "cell_type": "code",
   "execution_count": 52,
   "metadata": {},
   "outputs": [],
   "source": [
    "from sklearn.preprocessing import StandardScaler\n",
    "\n",
    "# 표준 정규 분포로 변환\n",
    "iris_scaled = StandardScaler().fit_transform(irisDF.iloc[:, :-1])"
   ]
  },
  {
   "cell_type": "code",
   "execution_count": 56,
   "metadata": {},
   "outputs": [
    {
     "name": "stdout",
     "output_type": "stream",
     "text": [
      "(150, 2)\n"
     ]
    }
   ],
   "source": [
    "from sklearn.decomposition import PCA\n",
    "\n",
    "pca = PCA(n_components=2)\n",
    "\n",
    "pca.fit(iris_scaled)\n",
    "iris_pca=pca.transform(iris_scaled)\n",
    "print(iris_pca.shape)"
   ]
  },
  {
   "cell_type": "code",
   "execution_count": 58,
   "metadata": {},
   "outputs": [
    {
     "data": {
      "text/html": [
       "<div>\n",
       "<style scoped>\n",
       "    .dataframe tbody tr th:only-of-type {\n",
       "        vertical-align: middle;\n",
       "    }\n",
       "\n",
       "    .dataframe tbody tr th {\n",
       "        vertical-align: top;\n",
       "    }\n",
       "\n",
       "    .dataframe thead th {\n",
       "        text-align: right;\n",
       "    }\n",
       "</style>\n",
       "<table border=\"1\" class=\"dataframe\">\n",
       "  <thead>\n",
       "    <tr style=\"text-align: right;\">\n",
       "      <th></th>\n",
       "      <th>pca_component_1</th>\n",
       "      <th>pca_component_2</th>\n",
       "      <th>target</th>\n",
       "    </tr>\n",
       "  </thead>\n",
       "  <tbody>\n",
       "    <tr>\n",
       "      <th>0</th>\n",
       "      <td>-2.264703</td>\n",
       "      <td>0.480027</td>\n",
       "      <td>0</td>\n",
       "    </tr>\n",
       "    <tr>\n",
       "      <th>1</th>\n",
       "      <td>-2.080961</td>\n",
       "      <td>-0.674134</td>\n",
       "      <td>0</td>\n",
       "    </tr>\n",
       "    <tr>\n",
       "      <th>2</th>\n",
       "      <td>-2.364229</td>\n",
       "      <td>-0.341908</td>\n",
       "      <td>0</td>\n",
       "    </tr>\n",
       "  </tbody>\n",
       "</table>\n",
       "</div>"
      ],
      "text/plain": [
       "   pca_component_1  pca_component_2  target\n",
       "0        -2.264703         0.480027       0\n",
       "1        -2.080961        -0.674134       0\n",
       "2        -2.364229        -0.341908       0"
      ]
     },
     "execution_count": 58,
     "metadata": {},
     "output_type": "execute_result"
    }
   ],
   "source": [
    "# 데이터 값 확인\n",
    "pca_columns=['pca_component_1', 'pca_component_2']\n",
    "irisDF_pca = pd.DataFrame(iris_pca, columns = pca_columns)\n",
    "irisDF_pca['target'] = iris.target\n",
    "irisDF_pca.head(3)"
   ]
  },
  {
   "cell_type": "code",
   "execution_count": 61,
   "metadata": {},
   "outputs": [
    {
     "data": {
      "image/png": "[encoded data removed]",
      "text/plain": [
       "<Figure size 432x288 with 1 Axes>"
      ]
     },
     "metadata": {
      "needs_background": "light"
     },
     "output_type": "display_data"
    }
   ],
   "source": [
    "markers=['^', 's', 'o']\n",
    "\n",
    "for i, marker in enumerate(markers):\n",
    "    x_axis_data = irisDF_pca[irisDF_pca['target']==i]['pca_component_1']\n",
    "    y_axis_data = irisDF_pca[irisDF_pca['target']==i]['pca_component_2']\n",
    "    plt.scatter(x_axis_data, y_axis_data, marker=marker, label=iris.target_names[i])\n",
    "    \n",
    "plt.legend()\n",
    "plt.xlabel('pca_coponent_1')\n",
    "plt.ylabel('pca_component_2')\n",
    "plt.show()"
   ]
  },
  {
   "cell_type": "code",
   "execution_count": 63,
   "metadata": {},
   "outputs": [
    {
     "name": "stdout",
     "output_type": "stream",
     "text": [
      "[0.72962445 0.22850762]\n"
     ]
    }
   ],
   "source": [
    "print(pca.explained_variance_ratio_)"
   ]
  },
  {
   "cell_type": "code",
   "execution_count": 68,
   "metadata": {},
   "outputs": [
    {
     "name": "stdout",
     "output_type": "stream",
     "text": [
      "원본 데이터 교차 검증 개별 정확도 :  [0.98 0.94 0.96]\n",
      "원본 데이터 평균 정확도 :  0.96\n"
     ]
    }
   ],
   "source": [
    "# 원본 데이터 분석\n",
    "from sklearn.ensemble import RandomForestClassifier\n",
    "from sklearn.model_selection import cross_val_score\n",
    "import numpy as np\n",
    "\n",
    "rcf = RandomForestClassifier(random_state=156)\n",
    "scores = cross_val_score(rcf, iris.data, iris.target, scoring='accuracy', cv=3)\n",
    "print('원본 데이터 교차 검증 개별 정확도 : ', scores)\n",
    "print('원본 데이터 평균 정확도 : ', np.mean(scores))"
   ]
  },
  {
   "cell_type": "code",
   "execution_count": 69,
   "metadata": {},
   "outputs": [
    {
     "name": "stdout",
     "output_type": "stream",
     "text": [
      "PCA 데이터 정확도 [0.88 0.88 0.88]\n",
      "PCA 평균 정확도 :  0.88\n"
     ]
    }
   ],
   "source": [
    "pca_X = irisDF_pca[['pca_component_1', 'pca_component_2']]\n",
    "scores_pca = cross_val_score(rcf, pca_X, iris.target, scoring = 'accuracy', cv=3)\n",
    "print('PCA 데이터 정확도', scores_pca)\n",
    "print('PCA 평균 정확도 : ',np.mean(scores_pca))"
   ]
  }
 ],
 "metadata": {
  "kernelspec": {
   "display_name": "Python 3",
   "language": "python",
   "name": "python3"
  },
  "language_info": {
   "codemirror_mode": {
    "name": "ipython",
    "version": 3
   },
   "file_extension": ".py",
   "mimetype": "text/x-python",
   "name": "python",
   "nbconvert_exporter": "python",
   "pygments_lexer": "ipython3",
   "version": "3.6.10"
  }
 },
 "nbformat": 4,
 "nbformat_minor": 4
}
